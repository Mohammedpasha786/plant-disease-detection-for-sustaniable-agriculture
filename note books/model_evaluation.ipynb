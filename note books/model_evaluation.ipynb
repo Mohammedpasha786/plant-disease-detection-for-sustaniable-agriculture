
Model Evaluation

import os

%pwd

'/home/utpal108/dev/Python/PW_Skills_Projects/plant-disease-detection/notebooks'

os.chdir('../')

%pwd

'/home/utpal108/dev/Python/PW_Skills_Projects/plant-disease-detection'

from dataclasses import dataclass
from pathlib import Path

@dataclass(frozen=True)
class EvaluationConfig:
    path_of_model: Path
    training_data: Path
    all_params: dict
    params_image_size: list
    params_batch_size: int
    evaluation_score_path: Path

from plantDiseaseDetection.constants import *
from plantDiseaseDetection.utils import create_directories, read_yaml, save_json

class ConfigurationManager:
    def __init__(self, config_filepath=CONFIG_FILE_PATH, params_filepath=PARAMS_FILE_PATH):
        self.config = read_yaml(config_filepath)
        self.params = read_yaml(params_filepath)
        create_directories([self.config.artifacts_root])

    def get_validation_config(self) -> EvaluationConfig:
        
        eval_config = EvaluationConfig(
            path_of_model =  Path(self.config.training.trained_model_path),
            training_data = Path(self.config.data_ingestion.dataset_dir),
            all_params = self.params,
            params_image_size = self.params.IMAGE_SIZE,
            params_batch_size = self.params.BATCH_SIZE,
            evaluation_score_path = Path(self.config.evaluation.evaluation_score_path)
        )
        
        return eval_config

import tensorflow as tf

class Evaluate:

    def __init__(self, config: EvaluationConfig):
        self.config = config

    def _valid_generator(self):
        
        datagenerator_kwargs = dict(
            rescale = 1./255,
            validation_split = 0.30
        )

        dataflow_kwargs = dict(
            target_size = self.config.params_image_size[:-1],
            batch_size = self.config.params_batch_size,
            interpolation = 'bilinear'
        )

        valid_datagenerator = tf.keras.preprocessing.image.ImageDataGenerator(
            **datagenerator_kwargs
        )

        self.valid_generator = valid_datagenerator.flow_from_directory(
            directory = self.config.training_data,
            subset = 'validation',
            shuffle = False,
            **dataflow_kwargs
        )

    def load_model(self, path:Path) -> tf.keras.Model:
        return tf.keras.models.load_model(path)
    
    def evaluation(self):
        model = self.load_model(self.config.path_of_model)
        self._valid_generator()
        score = model.evaluate(self.valid_generator)
        save_json(path = self.config.evaluation_score_path, data={'loss': score[0], 'accuracy': score[1]})

try:
    config = ConfigurationManager()
    val_config = config.get_validation_config()
    evaluation = Evaluate(config=val_config)
    evaluation.evaluation()

except Exception as e:
    raise e

